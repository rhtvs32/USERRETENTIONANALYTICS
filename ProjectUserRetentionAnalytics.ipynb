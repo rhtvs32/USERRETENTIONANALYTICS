{
 "cells": [
  {
   "cell_type": "code",
   "execution_count": 3,
   "id": "acbab771-6255-472c-a2c0-05d757e06b8b",
   "metadata": {},
   "outputs": [
    {
     "name": "stdout",
     "output_type": "stream",
     "text": [
      "Database connection established\n",
      "Tables in the database: [{'Tables_in_userretentiondb': 'AnonymousActivity'}, {'Tables_in_userretentiondb': 'Conversions'}, {'Tables_in_userretentiondb': 'UserLogins'}]\n"
     ]
    }
   ],
   "source": [
    "import mysql.connector\n",
    "\n",
    "# Database configuration\n",
    "DATABASE_CONFIG = {\n",
    "    'host': 'localhost',\n",
    "    'user': 'root',\n",
    "    'password': 'SnehaJoshi92$',  # Your MySQL password\n",
    "    'database': 'UserRetentionDB'  # Ensure this database exists\n",
    "}\n",
    "\n",
    "try:\n",
    "    # Establish database connection\n",
    "    db = mysql.connector.connect(\n",
    "        host=DATABASE_CONFIG['host'],\n",
    "        user=DATABASE_CONFIG['user'],\n",
    "        password=DATABASE_CONFIG['password'],\n",
    "        database=DATABASE_CONFIG['database']\n",
    "    )\n",
    "    cursor = db.cursor(dictionary=True)\n",
    "    print(\"Database connection established\")\n",
    "\n",
    "    # Example query to check tables\n",
    "    cursor.execute(\"SHOW TABLES;\")\n",
    "    tables = cursor.fetchall()\n",
    "    print(\"Tables in the database:\", tables)\n",
    "\n",
    "except mysql.connector.Error as err:\n",
    "    print(f\"Error: {err}\")"
   ]
  },
  {
   "cell_type": "code",
   "execution_count": 6,
   "id": "ca48161c-a9d9-48d4-a5bf-959fceb96a25",
   "metadata": {},
   "outputs": [],
   "source": [
    "def log_anonymous_activity(content_id, session_id):\n",
    "    query = \"\"\"\n",
    "        INSERT INTO AnonymousActivity (content_id, session_id)\n",
    "        VALUES (%s, %s)\n",
    "    \"\"\"\n",
    "    cursor.execute(query, (content_id, session_id))\n",
    "    db.commit()\n",
    "    print(\"Anonymous activity logged\")\n",
    "\n",
    "def log_conversion(session_id, user_id):\n",
    "    query = \"\"\"\n",
    "        INSERT INTO Conversions (session_id, user_id)\n",
    "        VALUES (%s, %s)\n",
    "    \"\"\"\n",
    "    cursor.execute(query, (session_id, user_id))\n",
    "    db.commit()\n",
    "    print(\"Conversion logged\")\n",
    "\n",
    "def log_user_login(user_id):\n",
    "    query = \"\"\"\n",
    "        INSERT INTO UserLogins (user_id)\n",
    "        VALUES (%s)\n",
    "    \"\"\"\n",
    "    cursor.execute(query, (user_id,))\n",
    "    db.commit()\n",
    "    print(\"User login logged\")\n"
   ]
  },
  {
   "cell_type": "code",
   "execution_count": 7,
   "id": "4364493b-96f0-470b-b933-de120497c3fa",
   "metadata": {},
   "outputs": [
    {
     "name": "stdout",
     "output_type": "stream",
     "text": [
      "Anonymous activity logged\n"
     ]
    }
   ],
   "source": [
    "log_anonymous_activity(content_id=101, session_id='test_session_1')\n"
   ]
  },
  {
   "cell_type": "code",
   "execution_count": 8,
   "id": "6d93e14f-10a2-45f8-a109-cbf97fc1e4c1",
   "metadata": {},
   "outputs": [
    {
     "name": "stdout",
     "output_type": "stream",
     "text": [
      "Conversion logged\n"
     ]
    }
   ],
   "source": [
    "log_conversion(session_id='test_session_1', user_id=1)\n"
   ]
  },
  {
   "cell_type": "code",
   "execution_count": 9,
   "id": "e1023424-2059-4464-9c70-1f1ccd90ac55",
   "metadata": {},
   "outputs": [
    {
     "name": "stdout",
     "output_type": "stream",
     "text": [
      "User login logged\n"
     ]
    }
   ],
   "source": [
    "log_user_login(user_id=1)\n"
   ]
  },
  {
   "cell_type": "code",
   "execution_count": 10,
   "id": "745eb331-71ab-4474-a49d-62936720d8c3",
   "metadata": {},
   "outputs": [],
   "source": [
    "def get_total_anonymous_activity():\n",
    "    query = \"SELECT COUNT(*) AS TotalAnonymousActivity FROM AnonymousActivity;\"\n",
    "    cursor.execute(query)\n",
    "    result = cursor.fetchone()\n",
    "    return result['TotalAnonymousActivity']\n"
   ]
  },
  {
   "cell_type": "code",
   "execution_count": 11,
   "id": "37ecbdc3-04d4-4f7a-bc3e-cff02b84e76d",
   "metadata": {},
   "outputs": [],
   "source": [
    "def get_conversion_rate():\n",
    "    query = \"\"\"\n",
    "        SELECT \n",
    "            (SELECT COUNT(*) FROM Conversions) / (SELECT COUNT(*) FROM AnonymousActivity) * 100 AS ConversionRate;\n",
    "    \"\"\"\n",
    "    cursor.execute(query)\n",
    "    result = cursor.fetchone()\n",
    "    return result['ConversionRate']\n"
   ]
  },
  {
   "cell_type": "code",
   "execution_count": 12,
   "id": "b20492c1-349c-44d0-ab64-d4afa8a646ed",
   "metadata": {},
   "outputs": [],
   "source": [
    "def get_inactive_users(interval='1 DAY'):\n",
    "    query = f\"\"\"\n",
    "        SELECT user_id, MAX(login_at) AS LastLogin\n",
    "        FROM UserLogins\n",
    "        GROUP BY user_id\n",
    "        HAVING LastLogin < NOW() - INTERVAL {interval};\n",
    "    \"\"\"\n",
    "    cursor.execute(query)\n",
    "    results = cursor.fetchall()\n",
    "    return results\n"
   ]
  },
  {
   "cell_type": "code",
   "execution_count": 15,
   "id": "cc5b2343-48f0-4f15-8a2a-4ec3b43b80d3",
   "metadata": {},
   "outputs": [
    {
     "name": "stdout",
     "output_type": "stream",
     "text": [
      "{'TotalAnonymousActivity': 7}\n"
     ]
    }
   ],
   "source": [
    "query = \"SELECT COUNT(*) AS TotalAnonymousActivity FROM AnonymousActivity;\"\n",
    "cursor.execute(query)\n",
    "print(cursor.fetchone())"
   ]
  },
  {
   "cell_type": "code",
   "execution_count": 16,
   "id": "7f2d7af7-e528-496d-992d-3d4401ae6569",
   "metadata": {},
   "outputs": [
    {
     "name": "stdout",
     "output_type": "stream",
     "text": [
      "{'TotalAnonymousActivity': 7}\n"
     ]
    }
   ],
   "source": [
    "query = \"SELECT COUNT(*) AS TotalAnonymousActivity FROM AnonymousActivity;\"\n",
    "cursor.execute(query)\n",
    "print(cursor.fetchone())\n"
   ]
  },
  {
   "cell_type": "code",
   "execution_count": 17,
   "id": "5d32abd4-cfad-46a6-bb86-796f982612c6",
   "metadata": {},
   "outputs": [
    {
     "name": "stdout",
     "output_type": "stream",
     "text": [
      "{'ConversionRate': Decimal('100.0000')}\n"
     ]
    }
   ],
   "source": [
    "query = \"\"\"\n",
    "    SELECT \n",
    "        (SELECT COUNT(*) FROM Conversions) / (SELECT COUNT(*) FROM AnonymousActivity) * 100 AS ConversionRate;\n",
    "\"\"\"\n",
    "cursor.execute(query)\n",
    "print(cursor.fetchone())\n"
   ]
  },
  {
   "cell_type": "code",
   "execution_count": 18,
   "id": "5abdb84f-83c2-4d78-8872-ecb7ff0e55c2",
   "metadata": {},
   "outputs": [
    {
     "name": "stdout",
     "output_type": "stream",
     "text": [
      "{'user_id': 4, 'LastLogin': datetime.datetime(2024, 12, 13, 15, 45)}\n",
      "{'user_id': 5, 'LastLogin': datetime.datetime(2024, 12, 10, 10, 15)}\n"
     ]
    }
   ],
   "source": [
    "query = \"\"\"\n",
    "    SELECT user_id, MAX(login_at) AS LastLogin \n",
    "    FROM UserLogins \n",
    "    GROUP BY user_id \n",
    "    HAVING LastLogin < NOW() - INTERVAL 1 DAY;\n",
    "\"\"\"\n",
    "cursor.execute(query)\n",
    "for row in cursor.fetchall():\n",
    "    print(row)\n"
   ]
  },
  {
   "cell_type": "code",
   "execution_count": 19,
   "id": "3939b30f-e342-47e0-bcc8-d9b6050b8a9a",
   "metadata": {},
   "outputs": [
    {
     "data": {
      "image/png": "[encoded data removed]",
      "text/plain": [
       "<Figure size 640x480 with 1 Axes>"
      ]
     },
     "metadata": {},
     "output_type": "display_data"
    }
   ],
   "source": [
    "import matplotlib.pyplot as plt\n",
    "\n",
    "# Example: Pie Chart for Conversion vs Anonymous Activity\n",
    "anonymous_activity = get_total_anonymous_activity()\n",
    "conversions = anonymous_activity * (get_conversion_rate() / 100)\n",
    "non_conversions = anonymous_activity - conversions\n",
    "\n",
    "labels = ['Conversions', 'Non-Conversions']\n",
    "sizes = [conversions, non_conversions]\n",
    "\n",
    "plt.pie(sizes, labels=labels, autopct='%1.1f%%', startangle=140)\n",
    "plt.title(\"Anonymous Activity Conversion Rate\")\n",
    "plt.show()\n"
   ]
  },
  {
   "cell_type": "code",
   "execution_count": null,
   "id": "40631bf1-efba-4ccf-aa47-2f1e2e957d1d",
   "metadata": {},
   "outputs": [],
   "source": []
  }
 ],
 "metadata": {
  "kernelspec": {
   "display_name": "Python 3 (ipykernel)",
   "language": "python",
   "name": "python3"
  },
  "language_info": {
   "codemirror_mode": {
    "name": "ipython",
    "version": 3
   },
   "file_extension": ".py",
   "mimetype": "text/x-python",
   "name": "python",
   "nbconvert_exporter": "python",
   "pygments_lexer": "ipython3",
   "version": "3.9.13"
  }
 },
 "nbformat": 4,
 "nbformat_minor": 5
}
